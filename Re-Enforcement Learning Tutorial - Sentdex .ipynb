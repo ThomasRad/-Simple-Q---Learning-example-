{
 "cells": [
  {
   "cell_type": "code",
   "execution_count": 79,
   "id": "de7a66cf",
   "metadata": {},
   "outputs": [
    {
     "name": "stdout",
     "output_type": "stream",
     "text": [
      "Collecting gym\n",
      "  Downloading gym-0.21.0.tar.gz (1.5 MB)\n",
      "Requirement already satisfied: numpy>=1.18.0 in c:\\users\\tradk\\anaconda3\\lib\\site-packages (from gym) (1.20.1)\n",
      "Requirement already satisfied: cloudpickle>=1.2.0 in c:\\users\\tradk\\anaconda3\\lib\\site-packages (from gym) (1.6.0)\n",
      "Building wheels for collected packages: gym\n",
      "  Building wheel for gym (setup.py): started\n",
      "  Building wheel for gym (setup.py): finished with status 'done'\n",
      "  Created wheel for gym: filename=gym-0.21.0-py3-none-any.whl size=1616825 sha256=697237ae2e893a4f95c84d6df538410b6859852ef1376995c45e09fe01928df7\n",
      "  Stored in directory: c:\\users\\tradk\\appdata\\local\\pip\\cache\\wheels\\27\\6d\\b3\\a3a6e10704795c9b9000f1ab2dc480dfe7bed42f5972806e73\n",
      "Successfully built gym\n",
      "Installing collected packages: gym\n",
      "Successfully installed gym-0.21.0\n",
      "Note: you may need to restart the kernel to use updated packages.\n"
     ]
    }
   ],
   "source": [
    "# Install package\n",
    " \n",
    "pip install gym"
   ]
  },
  {
   "cell_type": "code",
   "execution_count": 2,
   "id": "990ec605",
   "metadata": {},
   "outputs": [],
   "source": [
    "#Import matplot \n",
    "\n",
    "import matplotlib.pyplot as plt"
   ]
  },
  {
   "cell_type": "code",
   "execution_count": 3,
   "id": "ecf94967",
   "metadata": {},
   "outputs": [],
   "source": [
    "# Import gym\n",
    "\n",
    "import gym"
   ]
  },
  {
   "cell_type": "code",
   "execution_count": 4,
   "id": "c94a7e8a",
   "metadata": {},
   "outputs": [],
   "source": [
    "# Create our enviornment \n",
    "# THe little car that could \n",
    "\n",
    "env = gym.make(\"MountainCar-v0\")"
   ]
  },
  {
   "cell_type": "code",
   "execution_count": 5,
   "id": "d17a4a13",
   "metadata": {},
   "outputs": [
    {
     "data": {
      "text/plain": [
       "array([-0.51887816,  0.        ], dtype=float32)"
      ]
     },
     "execution_count": 5,
     "metadata": {},
     "output_type": "execute_result"
    }
   ],
   "source": [
    "# Let us reset the enviornment \n",
    "\n",
    "env.reset()"
   ]
  },
  {
   "cell_type": "code",
   "execution_count": 6,
   "id": "d44f916b",
   "metadata": {},
   "outputs": [
    {
     "name": "stdout",
     "output_type": "stream",
     "text": [
      "[0.6  0.07]\n",
      "[-1.2  -0.07]\n",
      "Discrete(3)\n"
     ]
    }
   ],
   "source": [
    "# Lets explore the enviornment now.\n",
    "\n",
    "print(env.observation_space.high)\n",
    "print(env.observation_space.low)\n",
    "\n",
    "# Seeing how many actions we could take. \n",
    "\n",
    "print(env.action_space)"
   ]
  },
  {
   "cell_type": "code",
   "execution_count": 7,
   "id": "11286a31",
   "metadata": {},
   "outputs": [
    {
     "name": "stdout",
     "output_type": "stream",
     "text": [
      "[0.09  0.007]\n"
     ]
    }
   ],
   "source": [
    "# we want to quantize the span of space of possibilites instead of working with a cont space\n",
    "\n",
    "Observation_size = [20] * len(env.observation_space.high)\n",
    "os_win_size = (env.observation_space.high - env.observation_space.low)/ Observation_size\n",
    "\n",
    "# The size of these buckets are the following given below. \n",
    "\n",
    "print(os_win_size)\n"
   ]
  },
  {
   "cell_type": "code",
   "execution_count": 11,
   "id": "87313c66",
   "metadata": {},
   "outputs": [],
   "source": [
    "# Import numpy \n",
    "\n",
    "import numpy as np"
   ]
  },
  {
   "cell_type": "code",
   "execution_count": 12,
   "id": "4afc8232",
   "metadata": {},
   "outputs": [
    {
     "data": {
      "text/plain": [
       "(20, 20, 3)"
      ]
     },
     "execution_count": 12,
     "metadata": {},
     "output_type": "execute_result"
    }
   ],
   "source": [
    "# create our Q-Table\n",
    "\n",
    "q_table = np.random.uniform(low=-2, high = 0, size = (Observation_size + [env.action_space.n]))\n",
    "\n",
    "# Lets look at the shape of it.\n",
    "\n",
    "q_table.shape"
   ]
  },
  {
   "cell_type": "code",
   "execution_count": 18,
   "id": "44c77a1e",
   "metadata": {},
   "outputs": [
    {
     "name": "stdout",
     "output_type": "stream",
     "text": [
      "(6, 10)\n"
     ]
    }
   ],
   "source": [
    "# We we introduce new parameters. \n",
    "\n",
    "Learning_rate = 0.1\n",
    "Discount = 0.95\n",
    "episodes = 10000\n",
    "SHOW_EVERY = 2000\n",
    "\n",
    "\n",
    "# Create a helper function to make the state discrete \n",
    "\n",
    "def get_discrete(state):\n",
    "    discrete_state = (state - env.observation_space.low)/os_win_size\n",
    "    return tuple(discrete_state.astype(int))\n",
    "\n",
    "\n",
    "# set the function to the default \n",
    "\n",
    "discrete_state = get_discrete(env.reset())\n",
    "\n",
    "\n",
    "print(discrete_state)"
   ]
  },
  {
   "cell_type": "code",
   "execution_count": 13,
   "id": "65fb8e1f",
   "metadata": {},
   "outputs": [
    {
     "data": {
      "text/plain": [
       "0"
      ]
     },
     "execution_count": 13,
     "metadata": {},
     "output_type": "execute_result"
    }
   ],
   "source": [
    "# Pass the discrete state into the qtable and see the maximum action to take \n",
    "\n",
    "np.argmax(q_table[discrete_state])"
   ]
  },
  {
   "cell_type": "code",
   "execution_count": null,
   "id": "f5c83a0e",
   "metadata": {},
   "outputs": [],
   "source": [
    "# Let us clean things up here. \n",
    "\n",
    "env.reset()\n",
    "\n",
    "for episode in range(episodes):\n",
    "    \n",
    "    # Minimizing the amount of rendering that we do to not tax the system.\n",
    "    \n",
    "    if episode % SHOW_EVERY == 0:\n",
    "        render = True\n",
    "        \n",
    "    else:\n",
    "        \n",
    "        render = False\n",
    "    \n",
    "    discrete_state = get_discrete(env.reset())\n",
    "\n",
    "    done = False\n",
    "\n",
    "    while not done:\n",
    "        \n",
    "        action = np.argmax(q_table[discrete_state])\n",
    "        new_state, reward, done, _ = env.step(action)\n",
    "        new_discrete_state = get_discrete(new_state)\n",
    "        \n",
    "        if render:\n",
    "            \n",
    "            env.render()\n",
    "            \n",
    "        if not done:\n",
    "            \n",
    "            # Here we want to update our q value for the RL Algo\n",
    "            \n",
    "            max_future_q = np.max(q_table[new_discrete_state])\n",
    "            current_q = q_table[discrete_state + (action, )]\n",
    "            new_q = (1-Learning_rate) * current_q + Learning_rate * (reward + Discount * max_future_q)\n",
    "            q_table[discrete_state + (action, )] = new_q\n",
    "            \n",
    "        elif new_state[0] > env.goal_position:\n",
    "            \n",
    "            q_table[discrete_state +(action ,)] = 0\n",
    "\n",
    "        discrete_state = new_discrete_state\n",
    "\n",
    "\n",
    "env.close()"
   ]
  },
  {
   "cell_type": "code",
   "execution_count": null,
   "id": "d23c52f2",
   "metadata": {},
   "outputs": [],
   "source": []
  }
 ],
 "metadata": {
  "kernelspec": {
   "display_name": "Python 3",
   "language": "python",
   "name": "python3"
  },
  "language_info": {
   "codemirror_mode": {
    "name": "ipython",
    "version": 3
   },
   "file_extension": ".py",
   "mimetype": "text/x-python",
   "name": "python",
   "nbconvert_exporter": "python",
   "pygments_lexer": "ipython3",
   "version": "3.8.8"
  }
 },
 "nbformat": 4,
 "nbformat_minor": 5
}
